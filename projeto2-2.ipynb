{
 "cells": [
  {
   "cell_type": "markdown",
   "metadata": {},
   "source": [
    "# Projeto 2-2: Contagem de Pessoas\n",
    "\n",
    "### Guilherme Zaborowsky Graicer"
   ]
  },
  {
   "cell_type": "markdown",
   "metadata": {},
   "source": [
    "**Motivação**: http://www.cvg.reading.ac.uk/PETS2009/a.html#s1\n",
    "\n",
    "Objetivo: Vocês devem tentar realizar a contagem de pessoas no dataset S1.L1 utilizando o modelo de codebook. As imagens foram distribuídas via pendrive.\n",
    "\n",
    "Requisitos:\n",
    "  * Tem que usar o modelo de codebook do artigo.\n",
    "  * A partir da separação do foreground, vocês podem utilizar qualquer método para realizar a contagem, incluindo Clustering ou Machine Learning.\n",
    "  * O Repositório no Git deve conter além do código fonte, os dados do codebook treinado salvo com Pickle e um relatório do projeto.\n",
    "  * O relatório deve conter a metodologia utilizada (incluindo treinamento) e comentário sobre os resultados obtidos.\n",
    "\n",
    "### Entrega: 03/Out 23:59 via GitHub.\n",
    "\n",
    "### Rubrica do Projeto:\n",
    "\n",
    "    I. Não entregou ou entregou apenas um rascunho.\n",
    "    D. Implementou parcialmente o artigo ou não realizou a contagem.\n",
    "    C. Implementou a sessão 2 do artigo e realizou uma contagem de forma simples.\n",
    "    B. Cumpriu a rubrica C com a implementação completa do codebook.\n",
    "    A. Além de cumprir a rubrica B, realiza a contagem com uma técnica elaborada.\n",
    "    \n",
    "    -1 Conceito se o relatório estiver ausente ou insatisfatório."
   ]
  },
  {
   "cell_type": "code",
   "execution_count": 1,
   "metadata": {},
   "outputs": [],
   "source": [
    "%reset -f\n",
    "%matplotlib inline\n",
    "\n",
    "import cv2 as cv\n",
    "import numpy as np\n",
    "import matplotlib.pyplot as plt\n",
    "from tqdm import tqdm\n",
    "import pickle\n",
    "import os"
   ]
  },
  {
   "cell_type": "markdown",
   "metadata": {},
   "source": [
    "## O Treinamento\n",
    "\n",
    "Para treinar o programa para saber o que é o background usou-se a técnica de Codewords, descrita com detalhes no artigo \"Real-time foreground–background segmentation using codebook model\". Nele passa-se por um número de imagens construindo um codebook para cada pixel no tempo. Uma codeword foi implementada com uma classe com 2 atributos: um vetor representando sua cor em RGB, e outro (aux) com os valores de mínimo e máximo de brilho, frequencia, o maior intervalo em que esse codeword nao aparece, a primeira e a ultima vez que ele aparece.\n",
    "\n",
    "### Construindo os Codebooks\n",
    "\n",
    "Primeiramente é criada uma matrix de codebooks vazios das dimenções da imagem. Ao percorrer os pixels de cada imagem, é observado se eles se encaixam em alguma codeword existente no codebook correspondente, se não cria-se uma nova e adiciona-se ao codebook. A comparação do pixel com a codeword baseia-se na distância de cor (checa se ela é menor que uma constante escolhida, epsilon) e num intervalo de brilho.\n",
    "\n",
    "Após a construção inicial do codebook, faz-se um ajuste no lambda (maior intervalo em que esse codeword nao aparece) como feito no artigo. Por fim, a matriz passa por um filtro temporal, onde, usando o lamdba, elimina-se as codewords que aparecem pouco.\n",
    "\n"
   ]
  },
  {
   "cell_type": "code",
   "execution_count": 2,
   "metadata": {},
   "outputs": [],
   "source": [
    "class codeword:\n",
    "    def __init__(self, r, g, b, i_min, i_max, f, lambida, p, q):\n",
    "        self.rgb = [r,g,b]\n",
    "        self.aux = [i_min, i_max, f, lambida, p, q]\n",
    "\n",
    "e1 = 120 #12\n",
    "e2 = 120 #8\n",
    "beta = 1.1 #typically entre 1.1 and 1.5\n",
    "alpha = 0.4 # typically entre 0.4 and 0.7\n",
    "\n",
    "#Calcula a distancia de cor entre um pixel e um codeword\n",
    "def color_dist(x, v):\n",
    "    x2 = (x[0]**2) + (x[1]**2) + (x[2]**2)\n",
    "    v2 = (v[0]**2) + (v[1]**2) + (v[2]**2)\n",
    "    xv2 = ((v[0]*x[0]) + (v[1]*x[1]) + (v[2]*v[2]))**2\n",
    "    if v2 == 0:\n",
    "        p2 = 0\n",
    "    else:\n",
    "        p2 = xv2 / v2\n",
    "    \n",
    "    return np.sqrt(abs(x2 - p2))\n",
    "\n",
    "# Retorna True se a intensidade do pixel (I) está aceitavel para um codeword\n",
    "# com certa intensidade minima e maxima (Imin e Imax). Retorna False caso contrário.\n",
    "def bright(I, Imin, Imax):\n",
    "    Ilow = Imax*alpha\n",
    "    Ihi = min((beta*Imax),(Imin/alpha))\n",
    "    if I <= Ihi and I >= Ilow:\n",
    "        return True\n",
    "    return False\n",
    "    \n",
    "#funcao para o treinamento, cria e atualiza codewords da matriz de codebooks\n",
    "def codebook_update(x, codebook, t):\n",
    "    achou = False\n",
    "    I = np.sqrt((x[0]**2)+(x[1]**2)+(x[2]**2))\n",
    "    for c in codebook:\n",
    "        cd = color_dist(x, c.rgb)\n",
    "        if ((cd <= e1) and (bright(I, c.aux[0], c.aux[1]))):\n",
    "            achou = True\n",
    "            # ATUALIZA A CODEWORD\n",
    "            r_new = ((c.aux[2]*c.rgb[0])+x[0])/(c.aux[2]+1)\n",
    "            g_new = ((c.aux[2]*c.rgb[1])+x[1])/(c.aux[2]+1)\n",
    "            b_new = ((c.aux[2]*c.rgb[2])+x[2])/(c.aux[2]+1)\n",
    "            c.rgb = [r_new, g_new, b_new]\n",
    "            c.aux = [min(I, c.aux[0]), max(I, c.aux[1]), (c.aux[2]+1), max(c.aux[3], (t-c.aux[5])), c.aux[4], t]\n",
    "            break\n",
    "    if achou == False:\n",
    "        #CRIA NOVO CODEWORD\n",
    "        c_new = codeword(x[0], x[1], x[2], I, I, 1, t-1, t, t)\n",
    "        codebook.append(c_new)\n",
    "        \n",
    "\n",
    "# funcao para a subtração de background, checka se o pixel da match no codebook\n",
    "def codebook_check(x, codebook):\n",
    "    achou = False\n",
    "    I = np.sqrt((x[0]**2)+(x[1]**2)+(x[2]**2))\n",
    "    for c in codebook:\n",
    "        cd = color_dist(x, c.rgb)\n",
    "        if ((cd <= e2) and (bright(I, c.aux[0], c.aux[1]))):\n",
    "            achou = True\n",
    "            # ATUALIZA A CODEWORD\n",
    "            r_new = (c.aux[2]*c.rgb[0]+x[0])/(c.aux[2]+1)\n",
    "            g_new = (c.aux[2]*c.rgb[1]+x[1])/(c.aux[2]+1)\n",
    "            b_new = (c.aux[2]*c.rgb[2]+x[2])/(c.aux[2]+1)\n",
    "            c.rgb = [r_new, g_new, b_new]\n",
    "            c.aux = [min(I, c.aux[0]), max(I, c.aux[1]), (c.aux[2]+1), max(c.aux[3], (1-c.aux[5])), c.aux[4], 1]\n",
    "            break\n",
    "            \n",
    "    return achou\n",
    "    \n",
    "def create_matrix(rows, cols):\n",
    "    m = []\n",
    "    for i in range(rows):\n",
    "        m.append([])\n",
    "        for j in range(cols):\n",
    "            m[i].append([])\n",
    "    return m\n",
    "        "
   ]
  },
  {
   "cell_type": "code",
   "execution_count": 3,
   "metadata": {},
   "outputs": [
    {
     "name": "stderr",
     "output_type": "stream",
     "text": [
      "100%|██████████| 10/10 [01:09<00:00,  7.13s/Image]\n"
     ]
    }
   ],
   "source": [
    "\n",
    "\n",
    "codebook_matrix = None\n",
    "\n",
    "T = 10\n",
    "\n",
    "directory1 = \"../img/Crowd_PETS09/S0/Background/View_001/Time_13-06/\"\n",
    "images1 = os.listdir(directory1)\n",
    "# print(images1)\n",
    "\n",
    "for t in tqdm(range(1,(T+1)), unit=\"Image\"):\n",
    "#     img = cv.imread((\"../img/Crowd_PETS09/S0/Background/View_001/Time_13-06/00000036.jpg\"))\n",
    "    img = cv.imread(directory1 + images1[t], 1)\n",
    "    rows, cols, cor = img.shape\n",
    "    \n",
    "    # se for a 1a vez do loop, cria a matriz vazia de codebooks\n",
    "    if t == 1:\n",
    "        codebook_matrix = create_matrix(rows, cols)\n",
    "    \n",
    "    for j in range(cols):\n",
    "        for i in range(rows):\n",
    "            codebook_update(img[i][j].astype(float), codebook_matrix[i][j], t)\n",
    "    \n",
    "# ajusta o lambida\n",
    "for j in range(cols):\n",
    "    for i in range(rows):\n",
    "        cb = codebook_matrix[i][j]\n",
    "        for c in cb:\n",
    "            c.aux[3] = max(c.aux[3], (T-c.aux[5]+c.aux[4]-1))\n",
    "            \n",
    "\n",
    "            \n",
    "    "
   ]
  },
  {
   "cell_type": "code",
   "execution_count": 4,
   "metadata": {},
   "outputs": [],
   "source": [
    "# arq = open(\"codebook_salvo1.pickle\", \"wb\")\n",
    "# pickle.dump(codebook_matrix, arq)\n",
    "# arq.close()"
   ]
  },
  {
   "cell_type": "code",
   "execution_count": 5,
   "metadata": {},
   "outputs": [
    {
     "name": "stdout",
     "output_type": "stream",
     "text": [
      "Codebooks com 1 words: 240673\n",
      "Codebooks com 2 words: 163583\n",
      "Codebooks com 3 words: 32655\n",
      "Codebooks com 4 words: 4196\n",
      "Codebooks com 5 words: 1071\n",
      "Codebooks com 6 words: 167\n",
      "Codebooks com 7 words: 22\n",
      "Codebooks com 8 words: 1\n",
      "Codebooks com 9 words: 0\n",
      "Codebooks com 10 words: 0\n"
     ]
    }
   ],
   "source": [
    "qtos = []\n",
    "for j in range(cols):\n",
    "    for i in range(rows):\n",
    "        cb = codebook_matrix[i][j]\n",
    "        qtos.append(len(cb))\n",
    "        \n",
    "for i in range(1,(T+1)):      \n",
    "    print(\"Codebooks com \" + str(i) + \" words: \" + str(qtos.count(i)))"
   ]
  },
  {
   "cell_type": "code",
   "execution_count": 6,
   "metadata": {},
   "outputs": [],
   "source": [
    "# import sys\n",
    "\n",
    "# sys.getsizeof(codebook_matrix)\n"
   ]
  },
  {
   "cell_type": "code",
   "execution_count": 7,
   "metadata": {},
   "outputs": [],
   "source": [
    "Tm = T / 2\n",
    "\n",
    "# Aplicando o filtro temporal\n",
    "\n",
    "for j in range(cols):\n",
    "    for i in range(rows):\n",
    "        cb = codebook_matrix[i][j]\n",
    "        cb_new = []\n",
    "        for c in cb:\n",
    "            if c.aux[3] <= Tm:\n",
    "                cb_new.append(cb[cb.index(c)])\n",
    "        \n",
    "        codebook_matrix[i][j] = cb_new\n",
    "            "
   ]
  },
  {
   "cell_type": "code",
   "execution_count": 8,
   "metadata": {},
   "outputs": [
    {
     "name": "stdout",
     "output_type": "stream",
     "text": [
      "Contgem pós-filtro\n",
      "\n",
      "Codebooks com 1 words: 288661\n",
      "Codebooks com 2 words: 150079\n",
      "Codebooks com 3 words: 3539\n",
      "Codebooks com 4 words: 0\n",
      "Codebooks com 5 words: 0\n",
      "Codebooks com 6 words: 0\n",
      "Codebooks com 7 words: 0\n",
      "Codebooks com 8 words: 0\n",
      "Codebooks com 9 words: 0\n",
      "Codebooks com 10 words: 0\n"
     ]
    }
   ],
   "source": [
    "qtos = []\n",
    "for j in range(cols):\n",
    "    for i in range(rows):\n",
    "        cb = codebook_matrix[i][j]\n",
    "        qtos.append(len(cb))\n",
    "        \n",
    "print(\"Contgem pós-filtro\\n\")\n",
    "for i in range(1,(T+1)):      \n",
    "    print(\"Codebooks com \" + str(i) + \" words: \" + str(qtos.count(i)))"
   ]
  },
  {
   "cell_type": "markdown",
   "metadata": {},
   "source": [
    "## Subtração de Background\n",
    "\n",
    "Com o treinamento feito, já é possivel identificar coisas que não fazem parte do background na imagem (como pessoas por exemplo). Para isso foi usado uma imagem toda preta na resolução da imagem original, e para cada pixel que nao tivesse uma codeword correspondente em seu codebook, pintou-se de branco. O resultado fica o background preto e o foreground branco."
   ]
  },
  {
   "cell_type": "code",
   "execution_count": 25,
   "metadata": {},
   "outputs": [
    {
     "data": {
      "image/png": "[encoded data removed]",
      "text/plain": [
       "<Figure size 432x288 with 1 Axes>"
      ]
     },
     "metadata": {},
     "output_type": "display_data"
    }
   ],
   "source": [
    "#Teste com 1 imagem de foreground\n",
    "\n",
    "# img_teste = cv.imread((\"../img/Crowd_PETS09/S0/Background/View_001/Time_13-06/00000001.jpg\"))\n",
    "\n",
    "\n",
    "\n",
    "rows, cols, cor = img_teste.shape\n",
    "\n",
    "#Cria imagem preta\n",
    "result = np.zeros((rows,cols,3))\n",
    "\n",
    "\n",
    "for j in range(cols):\n",
    "    for i in range(rows):\n",
    "        if (codebook_check(img_teste[i][j].astype(float), codebook_matrix[i][j]) == False):\n",
    "            result[i][j] = [255,255,255]\n",
    "            \n",
    "plt.imshow(np.uint8(result))\n",
    "plt.show()\n"
   ]
  },
  {
   "cell_type": "markdown",
   "metadata": {},
   "source": [
    "## Tratamento da Imagem resultante\n",
    "\n",
    "Passa-se a imagem resultante por uma erosao e dilatação para eliminar os ruídos e deixar somente os blobs que representa pessoas."
   ]
  },
  {
   "cell_type": "code",
   "execution_count": 28,
   "metadata": {},
   "outputs": [
    {
     "data": {
      "image/png": "[encoded data removed]",
      "text/plain": [
       "<Figure size 432x288 with 1 Axes>"
      ]
     },
     "metadata": {},
     "output_type": "display_data"
    }
   ],
   "source": [
    "kernel = np.ones((7,7),np.uint8)\n",
    "img_erosada = cv.erode(result,kernel,iterations = 1)\n",
    "img_dilatada = cv.dilate(img_erosada,kernel,iterations = 2)\n",
    "\n",
    "plt.imshow(np.uint8(img_dilatada))\n",
    "plt.show()"
   ]
  },
  {
   "cell_type": "markdown",
   "metadata": {},
   "source": [
    "## Contagem de pessoas\n",
    "\n",
    "Para fazer a contagem de pessoas foi usada a função SimpleBlobDetector do opencv. Ela conta agrupacoes da mesma cor. Usando os parametros pôde-se especificar para a função apenas procurar blobs alongadas (que podem parecer pessoas)"
   ]
  },
  {
   "cell_type": "code",
   "execution_count": 29,
   "metadata": {},
   "outputs": [
    {
     "data": {
      "image/png": "[encoded data removed]",
      "text/plain": [
       "<Figure size 432x288 with 1 Axes>"
      ]
     },
     "metadata": {},
     "output_type": "display_data"
    },
    {
     "name": "stdout",
     "output_type": "stream",
     "text": [
      "Foram achadas 2 pessoas\n"
     ]
    }
   ],
   "source": [
    "\n",
    "\n",
    "# Setup dos parametros\n",
    "params = cv.SimpleBlobDetector_Params()\n",
    " \n",
    "# params.minThreshold = 10;\n",
    "# params.maxThreshold = 200;\n",
    " \n",
    "params.filterByArea = True\n",
    "params.minArea = 40\n",
    " \n",
    "# params.filterByCircularity = True\n",
    "# params.minCircularity = 0.1\n",
    " \n",
    "# params.filterByConvexity = True\n",
    "# params.minConvexity = 0.87\n",
    "\n",
    "params.filterByInertia = True\n",
    "params.minInertiaRatio = 0.01\n",
    " \n",
    "# Cria o detector\n",
    "ver = (cv.__version__).split('.')\n",
    "if int(ver[0]) < 3 :\n",
    "    detector = cv.SimpleBlobDetector(params)\n",
    "else : \n",
    "    detector = cv.SimpleBlobDetector_create(params)\n",
    "\n",
    "\n",
    "# detectando os blobs.\n",
    "keypoints = detector.detect(255-np.uint8(img_dilatada))\n",
    " \n",
    "# desenhando circulos nos blobs detectados.\n",
    "im_with_keypoints = cv.drawKeypoints(np.uint8(img_dilatada), keypoints, np.array([]), (0,0,255), cv.DRAW_MATCHES_FLAGS_DRAW_RICH_KEYPOINTS)\n",
    " \n",
    "plt.imshow(np.uint8(im_with_keypoints))\n",
    "plt.show()\n",
    "print(\"Foram achadas {0} pessoas\".format(len(keypoints)))"
   ]
  },
  {
   "cell_type": "code",
   "execution_count": null,
   "metadata": {},
   "outputs": [],
   "source": []
  },
  {
   "cell_type": "code",
   "execution_count": null,
   "metadata": {},
   "outputs": [],
   "source": [
    "\n"
   ]
  }
 ],
 "metadata": {
  "kernelspec": {
   "display_name": "Python 3",
   "language": "python",
   "name": "python3"
  },
  "language_info": {
   "codemirror_mode": {
    "name": "ipython",
    "version": 3
   },
   "file_extension": ".py",
   "mimetype": "text/x-python",
   "name": "python",
   "nbconvert_exporter": "python",
   "pygments_lexer": "ipython3",
   "version": "3.6.6"
  }
 },
 "nbformat": 4,
 "nbformat_minor": 2
}
