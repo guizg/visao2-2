{
 "cells": [
  {
   "cell_type": "markdown",
   "metadata": {},
   "source": [
    "# Projeto 2-2: Contagem de Pessoas\n",
    "\n",
    "### Guilherme Zaborowsky Graicer"
   ]
  },
  {
   "cell_type": "markdown",
   "metadata": {},
   "source": [
    "**Motivação**: http://www.cvg.reading.ac.uk/PETS2009/a.html#s1\n",
    "\n",
    "Objetivo: Vocês devem tentar realizar a contagem de pessoas no dataset S1.L1 utilizando o modelo de codebook. As imagens foram distribuídas via pendrive.\n",
    "\n",
    "Requisitos:\n",
    "  * Tem que usar o modelo de codebook do artigo.\n",
    "  * A partir da separação do foreground, vocês podem utilizar qualquer método para realizar a contagem, incluindo Clustering ou Machine Learning.\n",
    "  * O Repositório no Git deve conter além do código fonte, os dados do codebook treinado salvo com Pickle e um relatório do projeto.\n",
    "  * O relatório deve conter a metodologia utilizada (incluindo treinamento) e comentário sobre os resultados obtidos.\n",
    "\n",
    "### Entrega: 03/Out 23:59 via GitHub.\n",
    "\n",
    "### Rubrica do Projeto:\n",
    "\n",
    "    I. Não entregou ou entregou apenas um rascunho.\n",
    "    D. Implementou parcialmente o artigo ou não realizou a contagem.\n",
    "    C. Implementou a sessão 2 do artigo e realizou uma contagem de forma simples.\n",
    "    B. Cumpriu a rubrica C com a implementação completa do codebook.\n",
    "    A. Além de cumprir a rubrica B, realiza a contagem com uma técnica elaborada.\n",
    "    \n",
    "    -1 Conceito se o relatório estiver ausente ou insatisfatório."
   ]
  },
  {
   "cell_type": "code",
   "execution_count": 1,
   "metadata": {},
   "outputs": [],
   "source": [
    "%reset -f\n",
    "%matplotlib inline\n",
    "\n",
    "import cv2 as cv\n",
    "import numpy as np\n",
    "import matplotlib.pyplot as plt\n",
    "from tqdm import tqdm\n",
    "import pickle\n",
    "import os"
   ]
  },
  {
   "cell_type": "code",
   "execution_count": 2,
   "metadata": {},
   "outputs": [],
   "source": [
    "class codeword:\n",
    "    def __init__(self, r, g, b, i_min, i_max, f, lambida, p, q):\n",
    "        self.rgb = [r,g,b]\n",
    "        self.aux = [i_min, i_max, f, lambida, p, q]\n",
    "\n",
    "e1 = 12\n",
    "e2 = 8\n",
    "beta = 1.3 #typically entre 1.1 and 1.5\n",
    "alpha = 0.5 # typically entre 0.4 and 0.7\n",
    "\n",
    "#Calcula a distancia de cor entre um pixel e um codeword\n",
    "def color_dist(x, v):\n",
    "    x2 = x[0]**2 + x[1]**2 + x[2]**2\n",
    "    v2 = v[0]**2 + v[1]**2 + v[2]**2\n",
    "    xv2 = (v[0]*x[0] + v[1]*x[1] + v[2]*v[2])**2\n",
    "    if v2 ==0:\n",
    "        p2 = 0\n",
    "    else:\n",
    "        p2 = xv2 / v2\n",
    "    \n",
    "    return np.sqrt(abs(x2 - p2))\n",
    "\n",
    "# Retorna True se a intensidade do pixel (I) está aceitavel para um codeword\n",
    "# com certa intensidade minima e maxima (Imin e Imax). Retorna False caso contrário.\n",
    "def bright(I, Imin, Imax):\n",
    "    Ilow = Imax*alpha\n",
    "    Ihi = min((beta*Imax),(Imin/alpha))\n",
    "    if I <= Ihi and I >= Ilow:\n",
    "        return True\n",
    "    return False\n",
    "    \n",
    "\n",
    "def codebook_update(x, codebook, t):\n",
    "    achou = False\n",
    "    I = np.sqrt(x[0]**2+x[1]**2+x[2]**2)\n",
    "    for c in codebook:\n",
    "        cd = color_dist(x, c.rgb)\n",
    "        if cd <= e1 and bright(I, c.aux[0], c.aux[1]):\n",
    "            achou = True\n",
    "            # ATUALIZA A CODEWORD\n",
    "            r_new = (c.aux[2]*c.rgb[0]+x[0])/(c.aux[2]+1)\n",
    "            g_new = (c.aux[2]*c.rgb[1]+x[1])/(c.aux[2]+1)\n",
    "            b_new = (c.aux[2]*c.rgb[2]+x[2])/(c.aux[2]+1)\n",
    "            c.rgb = [r_new, g_new, b_new]\n",
    "            c.aux = [min(I, c.aux[0]), max(I, c.aux[1]), (c.aux[2]+1), max(c.aux[3], (t-c.aux[5])), c.aux[4], t]\n",
    "            break\n",
    "    if achou == False:\n",
    "        #CRIA NOVO CODEWORD\n",
    "        c_new = codeword(x[0], x[1], x[2], I, I, 1, t-1, t, t)\n",
    "        codebook.append(c_new)\n",
    "        \n",
    "    achou = False\n",
    "\n",
    "    \n",
    "def create_matrix(rows, cols):\n",
    "    m = []\n",
    "    for i in range(rows):\n",
    "        m.append([])\n",
    "        for j in range(cols):\n",
    "            m[i].append([])\n",
    "    return m\n",
    "        "
   ]
  },
  {
   "cell_type": "code",
   "execution_count": 3,
   "metadata": {},
   "outputs": [
    {
     "name": "stderr",
     "output_type": "stream",
     "text": [
      "100%|██████████| 10/10 [02:11<00:00, 16.67s/Image]\n"
     ]
    }
   ],
   "source": [
    "\n",
    "\n",
    "codebook_matrix = None\n",
    "\n",
    "T = 10\n",
    "\n",
    "directory = \"img/BG/Time_13-19/\"\n",
    "images = os.listdir(directory)\n",
    "\n",
    "for t in tqdm(range(1,(T+1)), unit=\"Image\"):\n",
    "#     img = cv.imread((\"img/BG/Time_13-19/0000000\" + str(t) + \".jpg\"))\n",
    "    img = cv.imread(directory + images[t], 1)\n",
    "    img = img.astype(\"float\")\n",
    "    rows, cols, cor = img.shape\n",
    "    \n",
    "    if t == 1:\n",
    "        codebook_matrix = create_matrix(rows, cols)\n",
    "    \n",
    "    for j in range(cols):\n",
    "        for i in range(rows):\n",
    "            codebook_update(img[i][j], codebook_matrix[i][j], t)\n",
    "            \n",
    "    for j in range(cols):\n",
    "        for i in range(rows):\n",
    "            cb = codebook_matrix[i][j]\n",
    "            for c in cb:\n",
    "                c.aux[3] = max(c.aux[3], (T-c.aux[5]+c.aux[4]-1))\n",
    "            \n",
    "\n",
    "            \n",
    "    "
   ]
  },
  {
   "cell_type": "code",
   "execution_count": 4,
   "metadata": {},
   "outputs": [
    {
     "ename": "MemoryError",
     "evalue": "",
     "output_type": "error",
     "traceback": [
      "\u001b[0;31m---------------------------------------------------------------------------\u001b[0m",
      "\u001b[0;31mMemoryError\u001b[0m                               Traceback (most recent call last)",
      "\u001b[0;32m<ipython-input-4-aaad61de05a2>\u001b[0m in \u001b[0;36m<module>\u001b[0;34m()\u001b[0m\n\u001b[0;32m----> 1\u001b[0;31m \u001b[0mpickle\u001b[0m\u001b[0;34m.\u001b[0m\u001b[0mdump\u001b[0m\u001b[0;34m(\u001b[0m\u001b[0mcodebook_matrix\u001b[0m\u001b[0;34m,\u001b[0m \u001b[0mopen\u001b[0m\u001b[0;34m(\u001b[0m\u001b[0;34m\"codebook_salvo\"\u001b[0m\u001b[0;34m,\u001b[0m \u001b[0;34m\"wb\"\u001b[0m\u001b[0;34m)\u001b[0m\u001b[0;34m)\u001b[0m\u001b[0;34m\u001b[0m\u001b[0m\n\u001b[0m",
      "\u001b[0;31mMemoryError\u001b[0m: "
     ]
    }
   ],
   "source": [
    "pickle.dump(codebook_matrix, open(\"codebook_salvo\", \"wb\"))"
   ]
  },
  {
   "cell_type": "code",
   "execution_count": 5,
   "metadata": {},
   "outputs": [
    {
     "name": "stdout",
     "output_type": "stream",
     "text": [
      "Codebooks com 1 words: 3565\n",
      "Codebooks com 2 words: 13808\n",
      "Codebooks com 3 words: 28509\n",
      "Codebooks com 4 words: 38539\n",
      "Codebooks com 5 words: 38580\n",
      "Codebooks com 6 words: 45110\n",
      "Codebooks com 7 words: 70877\n",
      "Codebooks com 8 words: 91952\n",
      "Codebooks com 9 words: 78028\n",
      "Codebooks com 10 words: 33400\n"
     ]
    }
   ],
   "source": [
    "qtos = []\n",
    "for j in range(cols):\n",
    "    for i in range(rows):\n",
    "        cb = codebook_matrix[i][j]\n",
    "        qtos.append(len(cb))\n",
    "        \n",
    "for i in range(1,(T+1)):      \n",
    "    print(\"Codebooks com \" + str(i) + \" words: \" + str(qtos.count(i)))"
   ]
  },
  {
   "cell_type": "code",
   "execution_count": null,
   "metadata": {},
   "outputs": [],
   "source": [
    "# Constroi o codebook para 1 pixel em varias imagens\n",
    "# def codebook_construction(X)\n",
    "#     codebook = []\n",
    "#     for i in range(len(X)):\n",
    "#         t = i+1\n",
    "#         achou = False\n",
    "#         I = np.sqrt(X[i][0]**2+X[i][1]**2+X[i][2]**2)\n",
    "#         for c in codebook:\n",
    "#             cd = color_dist(X[i], c.rgb)\n",
    "#             if cd <= e1 and bright(I, c.aux[\"i_min\"], c.aux[\"i_max\"]):\n",
    "#                 achou = True\n",
    "#                 # ATUALIZA A CODEWORD\n",
    "#                 r_new = (c.aux[\"f\"]*c.rgb[0]+X[i][0])/(c.aux[\"f\"]+1)\n",
    "#                 g_new = (c.aux[\"f\"]*c.rgb[1]+X[i][1])/(c.aux[\"f\"]+1)\n",
    "#                 b_new = (c.aux[\"f\"]*c.rgb[2]+X[i][2])/(c.aux[\"f\"]+1)\n",
    "#                 c.rgb = [r_new, g_new, b_new]\n",
    "#                 c.aux = [min(I, c.aux[\"i_min\"]), max(I, c.aux[\"i_max\"]), (c.aux[\"f\"]+1), max(c.aux[\"lambida\"], (t-c.aux[\"q\"])), c.aux[\"p\"], t]\n",
    "#                 break\n",
    "#         if !achou:\n",
    "#             #CRIA NOVO CODEWORD\n",
    "#             c_new = codeword(X[i][0], X[i][1], X[i][2], I, I, 1, t-1, t, t)\n",
    "#             codebook.append(c_new)\n",
    "            \n",
    "#         for c in codebook:\n",
    "#             c.aux[\"lambida\"] = max(c.aux[\"lambida\"], (len(X)-c.aux[\"q\"]+c.aux[\"p\"]-1))\n",
    "#         achou = False\n",
    "\n",
    "#     return codebook\n"
   ]
  }
 ],
 "metadata": {
  "kernelspec": {
   "display_name": "Python 3",
   "language": "python",
   "name": "python3"
  },
  "language_info": {
   "codemirror_mode": {
    "name": "ipython",
    "version": 3
   },
   "file_extension": ".py",
   "mimetype": "text/x-python",
   "name": "python",
   "nbconvert_exporter": "python",
   "pygments_lexer": "ipython3",
   "version": "3.6.5"
  }
 },
 "nbformat": 4,
 "nbformat_minor": 2
}
